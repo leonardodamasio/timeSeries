{
 "cells": [
  {
   "cell_type": "markdown",
   "metadata": {},
   "source": [
    "### Previsão"
   ]
  },
  {
   "cell_type": "code",
   "execution_count": 1,
   "metadata": {},
   "outputs": [
    {
     "data": {
      "text/html": [
       "<table>\n",
       "<caption>A Time Series: 12 × 12</caption>\n",
       "<thead>\n",
       "\t<tr><th></th><th scope=col>Jan</th><th scope=col>Feb</th><th scope=col>Mar</th><th scope=col>Apr</th><th scope=col>May</th><th scope=col>Jun</th><th scope=col>Jul</th><th scope=col>Aug</th><th scope=col>Sep</th><th scope=col>Oct</th><th scope=col>Nov</th><th scope=col>Dec</th></tr>\n",
       "</thead>\n",
       "<tbody>\n",
       "\t<tr><th scope=row>1949</th><td>112</td><td>118</td><td>132</td><td>129</td><td>121</td><td>135</td><td>148</td><td>148</td><td>136</td><td>119</td><td>104</td><td>118</td></tr>\n",
       "\t<tr><th scope=row>1950</th><td>115</td><td>126</td><td>141</td><td>135</td><td>125</td><td>149</td><td>170</td><td>170</td><td>158</td><td>133</td><td>114</td><td>140</td></tr>\n",
       "\t<tr><th scope=row>1951</th><td>145</td><td>150</td><td>178</td><td>163</td><td>172</td><td>178</td><td>199</td><td>199</td><td>184</td><td>162</td><td>146</td><td>166</td></tr>\n",
       "\t<tr><th scope=row>1952</th><td>171</td><td>180</td><td>193</td><td>181</td><td>183</td><td>218</td><td>230</td><td>242</td><td>209</td><td>191</td><td>172</td><td>194</td></tr>\n",
       "\t<tr><th scope=row>1953</th><td>196</td><td>196</td><td>236</td><td>235</td><td>229</td><td>243</td><td>264</td><td>272</td><td>237</td><td>211</td><td>180</td><td>201</td></tr>\n",
       "\t<tr><th scope=row>1954</th><td>204</td><td>188</td><td>235</td><td>227</td><td>234</td><td>264</td><td>302</td><td>293</td><td>259</td><td>229</td><td>203</td><td>229</td></tr>\n",
       "\t<tr><th scope=row>1955</th><td>242</td><td>233</td><td>267</td><td>269</td><td>270</td><td>315</td><td>364</td><td>347</td><td>312</td><td>274</td><td>237</td><td>278</td></tr>\n",
       "\t<tr><th scope=row>1956</th><td>284</td><td>277</td><td>317</td><td>313</td><td>318</td><td>374</td><td>413</td><td>405</td><td>355</td><td>306</td><td>271</td><td>306</td></tr>\n",
       "\t<tr><th scope=row>1957</th><td>315</td><td>301</td><td>356</td><td>348</td><td>355</td><td>422</td><td>465</td><td>467</td><td>404</td><td>347</td><td>305</td><td>336</td></tr>\n",
       "\t<tr><th scope=row>1958</th><td>340</td><td>318</td><td>362</td><td>348</td><td>363</td><td>435</td><td>491</td><td>505</td><td>404</td><td>359</td><td>310</td><td>337</td></tr>\n",
       "\t<tr><th scope=row>1959</th><td>360</td><td>342</td><td>406</td><td>396</td><td>420</td><td>472</td><td>548</td><td>559</td><td>463</td><td>407</td><td>362</td><td>405</td></tr>\n",
       "\t<tr><th scope=row>1960</th><td>417</td><td>391</td><td>419</td><td>461</td><td>472</td><td>535</td><td>622</td><td>606</td><td>508</td><td>461</td><td>390</td><td>432</td></tr>\n",
       "</tbody>\n",
       "</table>\n"
      ],
      "text/latex": [
       "A Time Series: 12 × 12\n",
       "\\begin{tabular}{r|llllllllllll}\n",
       "  & Jan & Feb & Mar & Apr & May & Jun & Jul & Aug & Sep & Oct & Nov & Dec\\\\\n",
       "\\hline\n",
       "\t1949 & 112 & 118 & 132 & 129 & 121 & 135 & 148 & 148 & 136 & 119 & 104 & 118\\\\\n",
       "\t1950 & 115 & 126 & 141 & 135 & 125 & 149 & 170 & 170 & 158 & 133 & 114 & 140\\\\\n",
       "\t1951 & 145 & 150 & 178 & 163 & 172 & 178 & 199 & 199 & 184 & 162 & 146 & 166\\\\\n",
       "\t1952 & 171 & 180 & 193 & 181 & 183 & 218 & 230 & 242 & 209 & 191 & 172 & 194\\\\\n",
       "\t1953 & 196 & 196 & 236 & 235 & 229 & 243 & 264 & 272 & 237 & 211 & 180 & 201\\\\\n",
       "\t1954 & 204 & 188 & 235 & 227 & 234 & 264 & 302 & 293 & 259 & 229 & 203 & 229\\\\\n",
       "\t1955 & 242 & 233 & 267 & 269 & 270 & 315 & 364 & 347 & 312 & 274 & 237 & 278\\\\\n",
       "\t1956 & 284 & 277 & 317 & 313 & 318 & 374 & 413 & 405 & 355 & 306 & 271 & 306\\\\\n",
       "\t1957 & 315 & 301 & 356 & 348 & 355 & 422 & 465 & 467 & 404 & 347 & 305 & 336\\\\\n",
       "\t1958 & 340 & 318 & 362 & 348 & 363 & 435 & 491 & 505 & 404 & 359 & 310 & 337\\\\\n",
       "\t1959 & 360 & 342 & 406 & 396 & 420 & 472 & 548 & 559 & 463 & 407 & 362 & 405\\\\\n",
       "\t1960 & 417 & 391 & 419 & 461 & 472 & 535 & 622 & 606 & 508 & 461 & 390 & 432\\\\\n",
       "\\end{tabular}\n"
      ],
      "text/markdown": [
       "\n",
       "A Time Series: 12 × 12\n",
       "\n",
       "| <!--/--> | Jan | Feb | Mar | Apr | May | Jun | Jul | Aug | Sep | Oct | Nov | Dec |\n",
       "|---|---|---|---|---|---|---|---|---|---|---|---|---|\n",
       "| 1949 | 112 | 118 | 132 | 129 | 121 | 135 | 148 | 148 | 136 | 119 | 104 | 118 |\n",
       "| 1950 | 115 | 126 | 141 | 135 | 125 | 149 | 170 | 170 | 158 | 133 | 114 | 140 |\n",
       "| 1951 | 145 | 150 | 178 | 163 | 172 | 178 | 199 | 199 | 184 | 162 | 146 | 166 |\n",
       "| 1952 | 171 | 180 | 193 | 181 | 183 | 218 | 230 | 242 | 209 | 191 | 172 | 194 |\n",
       "| 1953 | 196 | 196 | 236 | 235 | 229 | 243 | 264 | 272 | 237 | 211 | 180 | 201 |\n",
       "| 1954 | 204 | 188 | 235 | 227 | 234 | 264 | 302 | 293 | 259 | 229 | 203 | 229 |\n",
       "| 1955 | 242 | 233 | 267 | 269 | 270 | 315 | 364 | 347 | 312 | 274 | 237 | 278 |\n",
       "| 1956 | 284 | 277 | 317 | 313 | 318 | 374 | 413 | 405 | 355 | 306 | 271 | 306 |\n",
       "| 1957 | 315 | 301 | 356 | 348 | 355 | 422 | 465 | 467 | 404 | 347 | 305 | 336 |\n",
       "| 1958 | 340 | 318 | 362 | 348 | 363 | 435 | 491 | 505 | 404 | 359 | 310 | 337 |\n",
       "| 1959 | 360 | 342 | 406 | 396 | 420 | 472 | 548 | 559 | 463 | 407 | 362 | 405 |\n",
       "| 1960 | 417 | 391 | 419 | 461 | 472 | 535 | 622 | 606 | 508 | 461 | 390 | 432 |\n",
       "\n"
      ],
      "text/plain": [
       "     Jan Feb Mar Apr May Jun Jul Aug Sep Oct Nov Dec\n",
       "1949 112 118 132 129 121 135 148 148 136 119 104 118\n",
       "1950 115 126 141 135 125 149 170 170 158 133 114 140\n",
       "1951 145 150 178 163 172 178 199 199 184 162 146 166\n",
       "1952 171 180 193 181 183 218 230 242 209 191 172 194\n",
       "1953 196 196 236 235 229 243 264 272 237 211 180 201\n",
       "1954 204 188 235 227 234 264 302 293 259 229 203 229\n",
       "1955 242 233 267 269 270 315 364 347 312 274 237 278\n",
       "1956 284 277 317 313 318 374 413 405 355 306 271 306\n",
       "1957 315 301 356 348 355 422 465 467 404 347 305 336\n",
       "1958 340 318 362 348 363 435 491 505 404 359 310 337\n",
       "1959 360 342 406 396 420 472 548 559 463 407 362 405\n",
       "1960 417 391 419 461 472 535 622 606 508 461 390 432"
      ]
     },
     "metadata": {},
     "output_type": "display_data"
    }
   ],
   "source": [
    "AirPassengers"
   ]
  },
  {
   "cell_type": "code",
   "execution_count": 2,
   "metadata": {},
   "outputs": [
    {
     "data": {
      "text/plain": [
       "   Min. 1st Qu.  Median    Mean 3rd Qu.    Max. \n",
       "  104.0   180.0   265.5   280.3   360.5   622.0 "
      ]
     },
     "metadata": {},
     "output_type": "display_data"
    }
   ],
   "source": [
    "summary(AirPassengers)"
   ]
  },
  {
   "cell_type": "code",
   "execution_count": 3,
   "metadata": {},
   "outputs": [
    {
     "name": "stderr",
     "output_type": "stream",
     "text": [
      "Registered S3 method overwritten by 'xts':\n",
      "  method     from\n",
      "  as.zoo.xts zoo \n",
      "\n",
      "Registered S3 method overwritten by 'quantmod':\n",
      "  method            from\n",
      "  as.zoo.data.frame zoo \n",
      "\n",
      "Registered S3 methods overwritten by 'forecast':\n",
      "  method             from    \n",
      "  fitted.fracdiff    fracdiff\n",
      "  residuals.fracdiff fracdiff\n",
      "\n"
     ]
    }
   ],
   "source": [
    "# install.packages(\"forecast\")\n",
    "library(forecast)"
   ]
  },
  {
   "cell_type": "code",
   "execution_count": 4,
   "metadata": {},
   "outputs": [
    {
     "data": {
      "text/html": [
       "<table>\n",
       "<caption>A Time Series: 12 × 12</caption>\n",
       "<thead>\n",
       "\t<tr><th></th><th scope=col>Jan</th><th scope=col>Feb</th><th scope=col>Mar</th><th scope=col>Apr</th><th scope=col>May</th><th scope=col>Jun</th><th scope=col>Jul</th><th scope=col>Aug</th><th scope=col>Sep</th><th scope=col>Oct</th><th scope=col>Nov</th><th scope=col>Dec</th></tr>\n",
       "</thead>\n",
       "<tbody>\n",
       "\t<tr><th scope=row>1949</th><td>      NA</td><td>      NA</td><td>      NA</td><td>      NA</td><td>      NA</td><td>      NA</td><td>126.7917</td><td>127.2500</td><td>127.9583</td><td>128.5833</td><td>129.0000</td><td>129.7500</td></tr>\n",
       "\t<tr><th scope=row>1950</th><td>131.2500</td><td>133.0833</td><td>134.9167</td><td>136.4167</td><td>137.4167</td><td>138.7500</td><td>140.9167</td><td>143.1667</td><td>145.7083</td><td>148.4167</td><td>151.5417</td><td>154.7083</td></tr>\n",
       "\t<tr><th scope=row>1951</th><td>157.1250</td><td>159.5417</td><td>161.8333</td><td>164.1250</td><td>166.6667</td><td>169.0833</td><td>171.2500</td><td>173.5833</td><td>175.4583</td><td>176.8333</td><td>178.0417</td><td>180.1667</td></tr>\n",
       "\t<tr><th scope=row>1952</th><td>183.1250</td><td>186.2083</td><td>189.0417</td><td>191.2917</td><td>193.5833</td><td>195.8333</td><td>198.0417</td><td>199.7500</td><td>202.2083</td><td>206.2500</td><td>210.4167</td><td>213.3750</td></tr>\n",
       "\t<tr><th scope=row>1953</th><td>215.8333</td><td>218.5000</td><td>220.9167</td><td>222.9167</td><td>224.0833</td><td>224.7083</td><td>225.3333</td><td>225.3333</td><td>224.9583</td><td>224.5833</td><td>224.4583</td><td>225.5417</td></tr>\n",
       "\t<tr><th scope=row>1954</th><td>228.0000</td><td>230.4583</td><td>232.2500</td><td>233.9167</td><td>235.6250</td><td>237.7500</td><td>240.5000</td><td>243.9583</td><td>247.1667</td><td>250.2500</td><td>253.5000</td><td>257.1250</td></tr>\n",
       "\t<tr><th scope=row>1955</th><td>261.8333</td><td>266.6667</td><td>271.1250</td><td>275.2083</td><td>278.5000</td><td>281.9583</td><td>285.7500</td><td>289.3333</td><td>293.2500</td><td>297.1667</td><td>301.0000</td><td>305.4583</td></tr>\n",
       "\t<tr><th scope=row>1956</th><td>309.9583</td><td>314.4167</td><td>318.6250</td><td>321.7500</td><td>324.5000</td><td>327.0833</td><td>329.5417</td><td>331.8333</td><td>334.4583</td><td>337.5417</td><td>340.5417</td><td>344.0833</td></tr>\n",
       "\t<tr><th scope=row>1957</th><td>348.2500</td><td>353.0000</td><td>357.6250</td><td>361.3750</td><td>364.5000</td><td>367.1667</td><td>369.4583</td><td>371.2083</td><td>372.1667</td><td>372.4167</td><td>372.7500</td><td>373.6250</td></tr>\n",
       "\t<tr><th scope=row>1958</th><td>375.2500</td><td>377.9167</td><td>379.5000</td><td>380.0000</td><td>380.7083</td><td>380.9583</td><td>381.8333</td><td>383.6667</td><td>386.5000</td><td>390.3333</td><td>394.7083</td><td>398.6250</td></tr>\n",
       "\t<tr><th scope=row>1959</th><td>402.5417</td><td>407.1667</td><td>411.8750</td><td>416.3333</td><td>420.5000</td><td>425.5000</td><td>430.7083</td><td>435.1250</td><td>437.7083</td><td>440.9583</td><td>445.8333</td><td>450.6250</td></tr>\n",
       "\t<tr><th scope=row>1960</th><td>456.3333</td><td>461.3750</td><td>465.2083</td><td>469.3333</td><td>472.7500</td><td>475.0417</td><td>      NA</td><td>      NA</td><td>      NA</td><td>      NA</td><td>      NA</td><td>      NA</td></tr>\n",
       "</tbody>\n",
       "</table>\n"
      ],
      "text/latex": [
       "A Time Series: 12 × 12\n",
       "\\begin{tabular}{r|llllllllllll}\n",
       "  & Jan & Feb & Mar & Apr & May & Jun & Jul & Aug & Sep & Oct & Nov & Dec\\\\\n",
       "\\hline\n",
       "\t1949 &       NA &       NA &       NA &       NA &       NA &       NA & 126.7917 & 127.2500 & 127.9583 & 128.5833 & 129.0000 & 129.7500\\\\\n",
       "\t1950 & 131.2500 & 133.0833 & 134.9167 & 136.4167 & 137.4167 & 138.7500 & 140.9167 & 143.1667 & 145.7083 & 148.4167 & 151.5417 & 154.7083\\\\\n",
       "\t1951 & 157.1250 & 159.5417 & 161.8333 & 164.1250 & 166.6667 & 169.0833 & 171.2500 & 173.5833 & 175.4583 & 176.8333 & 178.0417 & 180.1667\\\\\n",
       "\t1952 & 183.1250 & 186.2083 & 189.0417 & 191.2917 & 193.5833 & 195.8333 & 198.0417 & 199.7500 & 202.2083 & 206.2500 & 210.4167 & 213.3750\\\\\n",
       "\t1953 & 215.8333 & 218.5000 & 220.9167 & 222.9167 & 224.0833 & 224.7083 & 225.3333 & 225.3333 & 224.9583 & 224.5833 & 224.4583 & 225.5417\\\\\n",
       "\t1954 & 228.0000 & 230.4583 & 232.2500 & 233.9167 & 235.6250 & 237.7500 & 240.5000 & 243.9583 & 247.1667 & 250.2500 & 253.5000 & 257.1250\\\\\n",
       "\t1955 & 261.8333 & 266.6667 & 271.1250 & 275.2083 & 278.5000 & 281.9583 & 285.7500 & 289.3333 & 293.2500 & 297.1667 & 301.0000 & 305.4583\\\\\n",
       "\t1956 & 309.9583 & 314.4167 & 318.6250 & 321.7500 & 324.5000 & 327.0833 & 329.5417 & 331.8333 & 334.4583 & 337.5417 & 340.5417 & 344.0833\\\\\n",
       "\t1957 & 348.2500 & 353.0000 & 357.6250 & 361.3750 & 364.5000 & 367.1667 & 369.4583 & 371.2083 & 372.1667 & 372.4167 & 372.7500 & 373.6250\\\\\n",
       "\t1958 & 375.2500 & 377.9167 & 379.5000 & 380.0000 & 380.7083 & 380.9583 & 381.8333 & 383.6667 & 386.5000 & 390.3333 & 394.7083 & 398.6250\\\\\n",
       "\t1959 & 402.5417 & 407.1667 & 411.8750 & 416.3333 & 420.5000 & 425.5000 & 430.7083 & 435.1250 & 437.7083 & 440.9583 & 445.8333 & 450.6250\\\\\n",
       "\t1960 & 456.3333 & 461.3750 & 465.2083 & 469.3333 & 472.7500 & 475.0417 &       NA &       NA &       NA &       NA &       NA &       NA\\\\\n",
       "\\end{tabular}\n"
      ],
      "text/markdown": [
       "\n",
       "A Time Series: 12 × 12\n",
       "\n",
       "| <!--/--> | Jan | Feb | Mar | Apr | May | Jun | Jul | Aug | Sep | Oct | Nov | Dec |\n",
       "|---|---|---|---|---|---|---|---|---|---|---|---|---|\n",
       "| 1949 |       NA |       NA |       NA |       NA |       NA |       NA | 126.7917 | 127.2500 | 127.9583 | 128.5833 | 129.0000 | 129.7500 |\n",
       "| 1950 | 131.2500 | 133.0833 | 134.9167 | 136.4167 | 137.4167 | 138.7500 | 140.9167 | 143.1667 | 145.7083 | 148.4167 | 151.5417 | 154.7083 |\n",
       "| 1951 | 157.1250 | 159.5417 | 161.8333 | 164.1250 | 166.6667 | 169.0833 | 171.2500 | 173.5833 | 175.4583 | 176.8333 | 178.0417 | 180.1667 |\n",
       "| 1952 | 183.1250 | 186.2083 | 189.0417 | 191.2917 | 193.5833 | 195.8333 | 198.0417 | 199.7500 | 202.2083 | 206.2500 | 210.4167 | 213.3750 |\n",
       "| 1953 | 215.8333 | 218.5000 | 220.9167 | 222.9167 | 224.0833 | 224.7083 | 225.3333 | 225.3333 | 224.9583 | 224.5833 | 224.4583 | 225.5417 |\n",
       "| 1954 | 228.0000 | 230.4583 | 232.2500 | 233.9167 | 235.6250 | 237.7500 | 240.5000 | 243.9583 | 247.1667 | 250.2500 | 253.5000 | 257.1250 |\n",
       "| 1955 | 261.8333 | 266.6667 | 271.1250 | 275.2083 | 278.5000 | 281.9583 | 285.7500 | 289.3333 | 293.2500 | 297.1667 | 301.0000 | 305.4583 |\n",
       "| 1956 | 309.9583 | 314.4167 | 318.6250 | 321.7500 | 324.5000 | 327.0833 | 329.5417 | 331.8333 | 334.4583 | 337.5417 | 340.5417 | 344.0833 |\n",
       "| 1957 | 348.2500 | 353.0000 | 357.6250 | 361.3750 | 364.5000 | 367.1667 | 369.4583 | 371.2083 | 372.1667 | 372.4167 | 372.7500 | 373.6250 |\n",
       "| 1958 | 375.2500 | 377.9167 | 379.5000 | 380.0000 | 380.7083 | 380.9583 | 381.8333 | 383.6667 | 386.5000 | 390.3333 | 394.7083 | 398.6250 |\n",
       "| 1959 | 402.5417 | 407.1667 | 411.8750 | 416.3333 | 420.5000 | 425.5000 | 430.7083 | 435.1250 | 437.7083 | 440.9583 | 445.8333 | 450.6250 |\n",
       "| 1960 | 456.3333 | 461.3750 | 465.2083 | 469.3333 | 472.7500 | 475.0417 |       NA |       NA |       NA |       NA |       NA |       NA |\n",
       "\n"
      ],
      "text/plain": [
       "     Jan      Feb      Mar      Apr      May      Jun      Jul      Aug     \n",
       "1949       NA       NA       NA       NA       NA       NA 126.7917 127.2500\n",
       "1950 131.2500 133.0833 134.9167 136.4167 137.4167 138.7500 140.9167 143.1667\n",
       "1951 157.1250 159.5417 161.8333 164.1250 166.6667 169.0833 171.2500 173.5833\n",
       "1952 183.1250 186.2083 189.0417 191.2917 193.5833 195.8333 198.0417 199.7500\n",
       "1953 215.8333 218.5000 220.9167 222.9167 224.0833 224.7083 225.3333 225.3333\n",
       "1954 228.0000 230.4583 232.2500 233.9167 235.6250 237.7500 240.5000 243.9583\n",
       "1955 261.8333 266.6667 271.1250 275.2083 278.5000 281.9583 285.7500 289.3333\n",
       "1956 309.9583 314.4167 318.6250 321.7500 324.5000 327.0833 329.5417 331.8333\n",
       "1957 348.2500 353.0000 357.6250 361.3750 364.5000 367.1667 369.4583 371.2083\n",
       "1958 375.2500 377.9167 379.5000 380.0000 380.7083 380.9583 381.8333 383.6667\n",
       "1959 402.5417 407.1667 411.8750 416.3333 420.5000 425.5000 430.7083 435.1250\n",
       "1960 456.3333 461.3750 465.2083 469.3333 472.7500 475.0417       NA       NA\n",
       "     Sep      Oct      Nov      Dec     \n",
       "1949 127.9583 128.5833 129.0000 129.7500\n",
       "1950 145.7083 148.4167 151.5417 154.7083\n",
       "1951 175.4583 176.8333 178.0417 180.1667\n",
       "1952 202.2083 206.2500 210.4167 213.3750\n",
       "1953 224.9583 224.5833 224.4583 225.5417\n",
       "1954 247.1667 250.2500 253.5000 257.1250\n",
       "1955 293.2500 297.1667 301.0000 305.4583\n",
       "1956 334.4583 337.5417 340.5417 344.0833\n",
       "1957 372.1667 372.4167 372.7500 373.6250\n",
       "1958 386.5000 390.3333 394.7083 398.6250\n",
       "1959 437.7083 440.9583 445.8333 450.6250\n",
       "1960       NA       NA       NA       NA"
      ]
     },
     "metadata": {},
     "output_type": "display_data"
    }
   ],
   "source": [
    "mediamovel = ma(AirPassengers, order=12)\n",
    "mediamovel"
   ]
  },
  {
   "cell_type": "code",
   "execution_count": 5,
   "metadata": {},
   "outputs": [
    {
     "name": "stderr",
     "output_type": "stream",
     "text": [
      "Warning message in ets(object, lambda = lambda, biasadj = biasadj, allow.multiplicative.trend = allow.multiplicative.trend, :\n",
      "\"Missing values encountered. Using longest contiguous portion of time series\"\n"
     ]
    },
    {
     "data": {
      "text/plain": [
       "         Point Forecast    Lo 80    Hi 80    Lo 95    Hi 95\n",
       "Jul 1960       477.3335 475.9160 478.7509 475.1657 479.5013\n",
       "Aug 1960       479.6252 476.4529 482.7975 474.7735 484.4769\n",
       "Sep 1960       481.9169 476.6028 487.2310 473.7897 490.0441\n",
       "Oct 1960       484.2086 476.4207 491.9966 472.2980 496.1193\n",
       "Nov 1960       486.5003 475.9430 497.0576 470.3544 502.6463\n",
       "Dec 1960       488.7920 475.1962 502.3878 467.9990 509.5850\n",
       "Jan 1961       491.0837 474.2001 507.9674 465.2625 516.9050\n",
       "Feb 1961       493.3754 472.9704 513.7804 462.1687 524.5822\n",
       "Mar 1961       495.6672 471.5200 519.8143 458.7372 532.5971\n",
       "Apr 1961       497.9589 469.8594 526.0584 454.9844 540.9333\n",
       "May 1961       500.2506 467.9976 532.5035 450.9239 549.5772\n",
       "Jun 1961       502.5423 465.9425 539.1421 446.5677 558.5169"
      ]
     },
     "metadata": {},
     "output_type": "display_data"
    }
   ],
   "source": [
    "previsao = forecast(mediamovel, h=12)\n",
    "previsao"
   ]
  },
  {
   "cell_type": "code",
   "execution_count": 6,
   "metadata": {},
   "outputs": [
    {
     "data": {
      "image/png": "[encoded data removed]",
      "text/plain": [
       "Plot with title \"Forecasts from ETS(M,A,N)\""
      ]
     },
     "metadata": {
      "image/png": {
       "height": 420,
       "width": 420
      },
      "text/plain": {
       "height": 420,
       "width": 420
      }
     },
     "output_type": "display_data"
    }
   ],
   "source": [
    "plot(previsao)"
   ]
  },
  {
   "cell_type": "code",
   "execution_count": 7,
   "metadata": {},
   "outputs": [
    {
     "data": {
      "text/plain": [
       "Series: AirPassengers \n",
       "ARIMA(2,1,1)(0,1,0)[12] \n",
       "\n",
       "Coefficients:\n",
       "         ar1     ar2      ma1\n",
       "      0.5960  0.2143  -0.9819\n",
       "s.e.  0.0888  0.0880   0.0292\n",
       "\n",
       "sigma^2 estimated as 132.3:  log likelihood=-504.92\n",
       "AIC=1017.85   AICc=1018.17   BIC=1029.35"
      ]
     },
     "metadata": {},
     "output_type": "display_data"
    }
   ],
   "source": [
    "arima = auto.arima(AirPassengers)\n",
    "arima"
   ]
  },
  {
   "cell_type": "code",
   "execution_count": 8,
   "metadata": {},
   "outputs": [
    {
     "data": {
      "text/plain": [
       "         Point Forecast    Lo 80    Hi 80    Lo 95    Hi 95\n",
       "Jan 1961       445.6349 430.8903 460.3795 423.0851 468.1847\n",
       "Feb 1961       420.3950 403.0907 437.6993 393.9304 446.8596\n",
       "Mar 1961       449.1983 429.7726 468.6240 419.4892 478.9074\n",
       "Apr 1961       491.8399 471.0270 512.6529 460.0092 523.6707\n",
       "May 1961       503.3945 481.5559 525.2330 469.9953 536.7937\n",
       "Jun 1961       566.8624 544.2637 589.4612 532.3007 601.4242\n",
       "Jul 1961       654.2602 631.0820 677.4383 618.8122 689.7081\n",
       "Aug 1961       638.5975 614.9704 662.2246 602.4630 674.7320\n",
       "Sep 1961       540.8837 516.9028 564.8647 504.2081 577.5594\n",
       "Oct 1961       494.1266 469.8624 518.3909 457.0177 531.2356\n",
       "Nov 1961       423.3327 398.8381 447.8273 385.8715 460.7939\n",
       "Dec 1961       465.5076 440.8229 490.1923 427.7556 503.2596"
      ]
     },
     "metadata": {},
     "output_type": "display_data"
    }
   ],
   "source": [
    "previsao = forecast(arima, h=12)\n",
    "previsao"
   ]
  },
  {
   "cell_type": "code",
   "execution_count": 9,
   "metadata": {},
   "outputs": [
    {
     "data": {
      "image/png": "[encoded data removed]",
      "text/plain": [
       "Plot with title \"Forecasts from ARIMA(2,1,1)(0,1,0)[12]\""
      ]
     },
     "metadata": {
      "image/png": {
       "height": 420,
       "width": 420
      },
      "text/plain": {
       "height": 420,
       "width": 420
      }
     },
     "output_type": "display_data"
    }
   ],
   "source": [
    "plot(previsao)"
   ]
  }
 ],
 "metadata": {
  "kernelspec": {
   "display_name": "R 3.3",
   "language": "R",
   "name": "ir33"
  },
  "language_info": {
   "codemirror_mode": "r",
   "file_extension": ".r",
   "mimetype": "text/x-r-source",
   "name": "R",
   "pygments_lexer": "r",
   "version": "3.6.1"
  }
 },
 "nbformat": 4,
 "nbformat_minor": 4
}
